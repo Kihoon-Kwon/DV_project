{
 "cells": [
  {
   "cell_type": "code",
   "execution_count": 18,
   "id": "b6cb3d2c",
   "metadata": {},
   "outputs": [
    {
     "name": "stderr",
     "output_type": "stream",
     "text": [
      "C:\\Users\\user\\AppData\\Local\\Temp/ipykernel_16400/807040626.py:5: DeprecationWarning: executable_path has been deprecated, please pass in a Service object\n",
      "  driver = webdriver.Chrome('C:/Myexam/chromedriver/chromedriver.exe')\n"
     ]
    }
   ],
   "source": [
    "# 서울시 홈페이지 접속하기 \n",
    "from selenium import webdriver\n",
    "from bs4 import BeautifulSoup\n",
    "\n",
    "driver = webdriver.Chrome('C:/Myexam/chromedriver/chromedriver.exe') \n",
    "url = 'https://www.seoul.go.kr/seoul/autonomy.do'\n",
    "driver.get(url)\n",
    "\n",
    "html = driver.page_source\n",
    "soup = BeautifulSoup(html, 'html.parser')"
   ]
  },
  {
   "cell_type": "code",
   "execution_count": 19,
   "id": "18c00bbe",
   "metadata": {},
   "outputs": [],
   "source": [
    "gu_list = soup.select('div.call-list > ul > li') # 자치구 목록이 있는 영역 설정하고 리스트화"
   ]
  },
  {
   "cell_type": "code",
   "execution_count": 20,
   "id": "c91faffa",
   "metadata": {},
   "outputs": [
    {
     "name": "stdout",
     "output_type": "stream",
     "text": [
      "<li class=\"tabcont\" id=\"district23\">\n",
      "<strong>강남구</strong>\n",
      "<ul>\n",
      "<li>(우) 06090 / 서울시 강남구 학동로 426 (삼성동)</li>\n",
      "<li>TEL. 02-3423-5114</li>\n",
      "<li><a href=\"http://www.gangnam.go.kr\" target=\"_blank\" title=\"강남구 홈페이지 바로가기 - 새창\">http://www.gangnam.go.kr</a></li>\n",
      "</ul>\n",
      "</li>\n"
     ]
    }
   ],
   "source": [
    "print(gu_list[0])"
   ]
  },
  {
   "cell_type": "code",
   "execution_count": 21,
   "id": "cb8e54c0",
   "metadata": {},
   "outputs": [],
   "source": [
    "gu = gu_list[0]"
   ]
  },
  {
   "cell_type": "code",
   "execution_count": 22,
   "id": "d241690b",
   "metadata": {},
   "outputs": [
    {
     "data": {
      "text/plain": [
       "[<strong>강남구</strong>]"
      ]
     },
     "execution_count": 22,
     "metadata": {},
     "output_type": "execute_result"
    }
   ],
   "source": [
    "district = gu.select('strong')\n",
    "district"
   ]
  },
  {
   "cell_type": "code",
   "execution_count": 23,
   "id": "73677a68",
   "metadata": {},
   "outputs": [
    {
     "data": {
      "text/plain": [
       "'강남구'"
      ]
     },
     "execution_count": 23,
     "metadata": {},
     "output_type": "execute_result"
    }
   ],
   "source": [
    "district = gu.select('strong')[0].text\n",
    "district"
   ]
  },
  {
   "cell_type": "code",
   "execution_count": 24,
   "id": "e10c0464",
   "metadata": {},
   "outputs": [
    {
     "name": "stdout",
     "output_type": "stream",
     "text": [
      "['강남구', '강동구', '강북구', '강서구', '관악구', '광진구', '구로구', '금천구', '노원구', '도봉구', '동대문구', '동작구', '마포구', '서대문구', '서초구', '성동구', '성북구', '송파구', '양천구', '영등포구', '용산구', '은평구', '종로구', '중구', '중랑구']\n"
     ]
    }
   ],
   "source": [
    "district_list = []\n",
    "gu_list = soup.select('div.call-list > ul > li')\n",
    "for gu in gu_list:\n",
    "    district = gu.select('strong')[0].text\n",
    "    district_list.append(district)\n",
    "\n",
    "print(district_list)\n",
    "\n",
    "driver.quit()"
   ]
  },
  {
   "cell_type": "markdown",
   "id": "9d829ba5",
   "metadata": {},
   "source": [
    "# 이제 이 생성한 리스트를 이용하여 순서대로 망고플레이트 검색창에 자동으로 입력시키는 프로세스를 설계할 예정"
   ]
  },
  {
   "cell_type": "code",
   "execution_count": 25,
   "id": "044acf51",
   "metadata": {},
   "outputs": [],
   "source": [
    "from selenium.webdriver.common.by import By\n",
    "\n",
    "restaurant_list = []\n",
    "\n",
    "def get_restaurant(page):\n",
    "    driver = webdriver.Chrome('C:/Myexam/chromedriver/chromedriver.exe')\n",
    "    url = 'https://www.mangoplate.com/search/'+district+'?keyword='+district+'&page='+str(page)\n",
    "    driver.get(url)\n",
    "    # 함수 마저 완성하기\n",
    "    \n",
    "    for district in district_list:\n",
    "        # 함수 마저 완성하기\n",
    "        \n",
    "    print(\"end\",page)"
   ]
  },
  {
   "cell_type": "code",
   "execution_count": 26,
   "id": "4c24efd7",
   "metadata": {},
   "outputs": [],
   "source": [
    "driver.quit()"
   ]
  },
  {
   "cell_type": "code",
   "execution_count": null,
   "id": "cec5fe8b",
   "metadata": {},
   "outputs": [],
   "source": []
  }
 ],
 "metadata": {
  "kernelspec": {
   "display_name": "Python 3 (ipykernel)",
   "language": "python",
   "name": "python3"
  },
  "language_info": {
   "codemirror_mode": {
    "name": "ipython",
    "version": 3
   },
   "file_extension": ".py",
   "mimetype": "text/x-python",
   "name": "python",
   "nbconvert_exporter": "python",
   "pygments_lexer": "ipython3",
   "version": "3.9.7"
  }
 },
 "nbformat": 4,
 "nbformat_minor": 5
}

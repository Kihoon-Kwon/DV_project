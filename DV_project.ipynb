{
 "cells": [
  {
   "cell_type": "raw",
   "id": "f8a66d53",
   "metadata": {},
   "source": [
    "# 코드 한번에 실행하면 오류가 발생하므로 하나씩 실행시키기"
   ]
  },
  {
   "cell_type": "code",
   "execution_count": 1,
   "id": "4412e6d3",
   "metadata": {},
   "outputs": [
    {
     "name": "stderr",
     "output_type": "stream",
     "text": [
      "C:\\Users\\user\\AppData\\Local\\Temp/ipykernel_2428/4233443268.py:5: DeprecationWarning: executable_path has been deprecated, please pass in a Service object\n",
      "  driver = webdriver.Chrome('C:/Myexam/chromedriver/chromedriver.exe')\n"
     ]
    }
   ],
   "source": [
    "# 네이버 데이터랩 홈페이지 접속하기 \n",
    "from selenium import webdriver\n",
    "from bs4 import BeautifulSoup\n",
    "\n",
    "driver = webdriver.Chrome('C:/Myexam/chromedriver/chromedriver.exe') \n",
    "url = 'https://datalab.naver.com/local/card_result.naver'\n",
    "driver.get(url)\n",
    "\n",
    "html = driver.page_source\n",
    "soup = BeautifulSoup(html, 'html.parser')"
   ]
  },
  {
   "cell_type": "code",
   "execution_count": 2,
   "id": "95b774da",
   "metadata": {},
   "outputs": [],
   "source": [
    "# 전체 선택 버튼 누르기(처음엔 선택이 안 되어있음)\n",
    "\n",
    "from selenium.webdriver.common.by import By\n",
    "\n",
    "choose_all = driver.find_element(By.CSS_SELECTOR,'#item_2_all').click()"
   ]
  },
  {
   "cell_type": "code",
   "execution_count": 3,
   "id": "d9be8cf9",
   "metadata": {},
   "outputs": [],
   "source": [
    "# 이후 조회하기 버튼 누르면 서울 전 자치구에 대한 카드사용량 그래프가 나타난다\n",
    "\n",
    "lookup = driver.find_element(By.CSS_SELECTOR,'#content > div.section_trend > div.com_box_inner > form > fieldset > a').click()"
   ]
  },
  {
   "cell_type": "code",
   "execution_count": 4,
   "id": "6f5b50fb",
   "metadata": {},
   "outputs": [
    {
     "data": {
      "text/plain": [
       "10"
      ]
     },
     "execution_count": 4,
     "metadata": {},
     "output_type": "execute_result"
    }
   ],
   "source": [
    "contents = driver.find_elements(By.CSS_SELECTOR,'#content > div.section_graph > div.com_box_inner > div > div.graph_cate.full > .cate_list')\n",
    "len(contents)"
   ]
  },
  {
   "cell_type": "code",
   "execution_count": 5,
   "id": "c3b2aaf3",
   "metadata": {},
   "outputs": [
    {
     "data": {
      "text/plain": [
       "'강남구'"
      ]
     },
     "execution_count": 5,
     "metadata": {},
     "output_type": "execute_result"
    }
   ],
   "source": [
    "contents[0].find_element(By.CSS_SELECTOR,'div > label').text # 잘 나오는 것 확인"
   ]
  },
  {
   "cell_type": "code",
   "execution_count": 6,
   "id": "9737b2fa",
   "metadata": {},
   "outputs": [
    {
     "name": "stdout",
     "output_type": "stream",
     "text": [
      "['강남구', '마포구', '서초구', '영등포구', '중구', '종로구', '송파구', '용산구', '강서구', '관악구']\n"
     ]
    }
   ],
   "source": [
    "districts = []\n",
    "for content in contents:\n",
    "    district = content.find_element(By.CSS_SELECTOR,'div > label').text\n",
    "    districts.append(district)\n",
    "    \n",
    "print(districts)"
   ]
  },
  {
   "cell_type": "code",
   "execution_count": 7,
   "id": "2f39a8ff",
   "metadata": {},
   "outputs": [
    {
     "name": "stdout",
     "output_type": "stream",
     "text": [
      "['강남구', '마포구', '서초구']\n"
     ]
    }
   ],
   "source": [
    "# 상위 3개의 구 슬라이스\n",
    "# 리스트 순서가 카드 사용이 \n",
    "\n",
    "districts_top3 = districts[:3]\n",
    "\n",
    "print(districts_top3)"
   ]
  },
  {
   "cell_type": "code",
   "execution_count": 8,
   "id": "9e0c354f",
   "metadata": {},
   "outputs": [],
   "source": [
    "driver.quit()"
   ]
  },
  {
   "cell_type": "code",
   "execution_count": null,
   "id": "3f56e80b",
   "metadata": {},
   "outputs": [],
   "source": []
  }
 ],
 "metadata": {
  "kernelspec": {
   "display_name": "Python 3.10.1 64-bit",
   "language": "python",
   "name": "python3"
  },
  "language_info": {
   "codemirror_mode": {
    "name": "ipython",
    "version": 3
   },
   "file_extension": ".py",
   "mimetype": "text/x-python",
   "name": "python",
   "nbconvert_exporter": "python",
   "pygments_lexer": "ipython3",
   "version": "3.10.1"
  },
  "vscode": {
   "interpreter": {
    "hash": "c19fa61d258bb2b35aae2ada233c33e2817c1ce895aa48acba720c6bf7cbe3cb"
   }
  }
 },
 "nbformat": 4,
 "nbformat_minor": 5
}
